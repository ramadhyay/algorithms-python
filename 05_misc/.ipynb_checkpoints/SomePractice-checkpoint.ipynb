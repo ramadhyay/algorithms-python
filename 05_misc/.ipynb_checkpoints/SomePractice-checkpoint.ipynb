{
 "cells": [
  {
   "cell_type": "code",
   "execution_count": 10,
   "id": "3a009d47-09e7-4aea-88a2-4f6b66680fcf",
   "metadata": {},
   "outputs": [
    {
     "data": {
      "text/plain": [
       "False"
      ]
     },
     "execution_count": 10,
     "metadata": {},
     "output_type": "execute_result"
    }
   ],
   "source": [
    "3 & (1 << 2) > 0"
   ]
  },
  {
   "cell_type": "code",
   "execution_count": 12,
   "id": "52d96563-de2f-4ba1-b5cf-074e2b6398d6",
   "metadata": {},
   "outputs": [
    {
     "data": {
      "text/plain": [
       "7"
      ]
     },
     "execution_count": 12,
     "metadata": {},
     "output_type": "execute_result"
    }
   ],
   "source": [
    "3 | (1 << 2)"
   ]
  },
  {
   "cell_type": "code",
   "execution_count": 16,
   "id": "32fbc6b7-19a9-4de3-80e5-cf5f77fc19b3",
   "metadata": {},
   "outputs": [
    {
     "data": {
      "text/plain": [
       "3"
      ]
     },
     "execution_count": 16,
     "metadata": {},
     "output_type": "execute_result"
    }
   ],
   "source": [
    "3 | (1 << 2) & (~(1 << 2))"
   ]
  },
  {
   "cell_type": "code",
   "execution_count": 19,
   "id": "0b9c414f-f2c0-49c6-88a0-d634202eb079",
   "metadata": {},
   "outputs": [
    {
     "name": "stdin",
     "output_type": "stream",
     "text": [
      " 10\n",
      " 20\n",
      " 30\n"
     ]
    },
    {
     "name": "stdout",
     "output_type": "stream",
     "text": [
      "['10', '20', '30']\n"
     ]
    }
   ],
   "source": [
    "data = []\n",
    "for i in range(0, 3):\n",
    "    data.append(input())\n",
    "\n",
    "print(data)"
   ]
  }
 ],
 "metadata": {
  "kernelspec": {
   "display_name": "Python 3 (ipykernel)",
   "language": "python",
   "name": "python3"
  },
  "language_info": {
   "codemirror_mode": {
    "name": "ipython",
    "version": 3
   },
   "file_extension": ".py",
   "mimetype": "text/x-python",
   "name": "python",
   "nbconvert_exporter": "python",
   "pygments_lexer": "ipython3",
   "version": "3.9.13"
  }
 },
 "nbformat": 4,
 "nbformat_minor": 5
}
